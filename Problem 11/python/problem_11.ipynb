{
 "cells": [
  {
   "cell_type": "code",
   "execution_count": 43,
   "metadata": {},
   "outputs": [],
   "source": [
    "#converting number block into readable ints\n",
    "numtext = []\n",
    "with open('diagnums.txt') as file:\n",
    "    for line in file:\n",
    "        numtext.append([int(num) for num in line.strip().split()])"
   ]
  },
  {
   "cell_type": "code",
   "execution_count": 50,
   "metadata": {},
   "outputs": [],
   "source": [
    "#reduce will help us collapse our interations to values so we can compare our steps\n",
    "#mul will be the function for reduce()\n",
    "from functools import reduce\n",
    "from operator import mul\n",
    "\n",
    "def productify(iterable):\n",
    "    return reduce(mul, iterable, 1)\n",
    "        \n"
   ]
  },
  {
   "cell_type": "code",
   "execution_count": 45,
   "metadata": {},
   "outputs": [
    {
     "name": "stdout",
     "output_type": "stream",
     "text": [
      "70600674\n"
     ]
    }
   ],
   "source": [
    "\n",
    "\n",
    "def max_prod():\n",
    "    return max(\n",
    "        max(\n",
    "            productify(numtext[i+k*i_step][j+k*j_step] for k in range(4))\n",
    "            for i in range(i_min, i_limit)\n",
    "            for j in range(j_limit)\n",
    "        )\n",
    "        for i_step, j_step, i_min, i_limit, j_limit in [\n",
    "            ( 0, 1, 0, 20, 17),  # horizontal\n",
    "            ( 1, 0, 0, 17, 20),  # vertical\n",
    "            ( 1, 1, 0, 17, 17),  # leading diagonal\n",
    "            (-1, 1, 3, 20, 17)   # trailing diagonal\n",
    "        ]\n",
    "    )\n",
    "\n",
    "result = max_prod()\n",
    "print(result)\n",
    "\n"
   ]
  },
  {
   "cell_type": "code",
   "execution_count": null,
   "metadata": {},
   "outputs": [],
   "source": [
    "from functools import reduce\n",
    "from operator import mul\n"
   ]
  }
 ],
 "metadata": {
  "kernelspec": {
   "display_name": "Python 3",
   "language": "python",
   "name": "python3"
  },
  "language_info": {
   "codemirror_mode": {
    "name": "ipython",
    "version": 3
   },
   "file_extension": ".py",
   "mimetype": "text/x-python",
   "name": "python",
   "nbconvert_exporter": "python",
   "pygments_lexer": "ipython3",
   "version": "3.8.10"
  },
  "orig_nbformat": 4
 },
 "nbformat": 4,
 "nbformat_minor": 2
}
