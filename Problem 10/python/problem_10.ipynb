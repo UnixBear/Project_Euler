{
 "cells": [
  {
   "cell_type": "code",
   "execution_count": 22,
   "metadata": {},
   "outputs": [],
   "source": [
    "import random\n",
    "\n",
    "class Solution:\n",
    "    def __init__(self, n):\n",
    "        self.n = n\n",
    "        \n",
    "    def rub_mil_prim(self, k):\n",
    "        if self.n == 2 or self.n == 3:\n",
    "            return True\n",
    "        else:\n",
    "            # here we handle some special cases that are easy to rule out\n",
    "            if self.n <= 1 or self.n % 2 == 0 or self.n % 3 == 0:\n",
    "                return False\n",
    "            \n",
    "        # find r and d such that n-1 = 2^r * d\n",
    "        # we divide d in half until d is odd\n",
    "        # and count the iterations\n",
    "        d = self.n - 1\n",
    "        r = 0\n",
    "        while d % 2 == 0:\n",
    "            r += 1\n",
    "            d //=2\n",
    "        \n",
    "        # repeat test k times\n",
    "        for i in range(k):\n",
    "            a = random.randint(2,self.n-2)\n",
    "            x = pow(a,d,self.n)\n",
    "            \n",
    "            # this is for skipping the rest of the loop if \n",
    "            # these condtions obtain. we check for these \n",
    "            # because they provide evidence the number might\n",
    "            # be prime\n",
    "            if x == 1 or x == self.n - 1:\n",
    "                continue\n",
    "            \n",
    "            for j in range(r-1):\n",
    "                x = pow(x, 2, self.n)\n",
    "                if x == self.n-1:\n",
    "                    break\n",
    "            else:\n",
    "                return False\n",
    "        return True                \n",
    "    def is_prime_brute(self):\n",
    "        if self.n <= 1:\n",
    "            return False\n",
    "        else:\n",
    "            for i in range(2, int(self.n**0.5)+1):\n",
    "                if self.n % i == 0:\n",
    "                    return False\n",
    "        return True\n",
    "    def sum_primes(self, upper_num):\n",
    "        sum = 0\n",
    "        for i in range(upper_num):\n",
    "            self.n = i\n",
    "            if self.rub_mil_prim(5) == True:\n",
    "                sum += i\n",
    "        return sum\n",
    "    def sum_primes_brute(self, upper_num):\n",
    "        sum = 0\n",
    "        for i in range(upper_num):\n",
    "            self.n=i\n",
    "            if self.is_prime_brute() == True:\n",
    "                sum += i\n",
    "        return sum"
   ]
  },
  {
   "cell_type": "code",
   "execution_count": 23,
   "metadata": {},
   "outputs": [
    {
     "data": {
      "text/plain": [
       "142913828922"
      ]
     },
     "execution_count": 23,
     "metadata": {},
     "output_type": "execute_result"
    }
   ],
   "source": [
    "temp = Solution(101)\n",
    "temp.sum_primes_brute(2000000)\n",
    "\n"
   ]
  },
  {
   "cell_type": "code",
   "execution_count": 16,
   "metadata": {},
   "outputs": [
    {
     "data": {
      "text/plain": [
       "142913828922"
      ]
     },
     "execution_count": 16,
     "metadata": {},
     "output_type": "execute_result"
    }
   ],
   "source": [
    "temp2 = Solution(101)\n",
    "temp2.sum_primes(2000000)"
   ]
  }
 ],
 "metadata": {
  "kernelspec": {
   "display_name": "Python 3",
   "language": "python",
   "name": "python3"
  },
  "language_info": {
   "codemirror_mode": {
    "name": "ipython",
    "version": 3
   },
   "file_extension": ".py",
   "mimetype": "text/x-python",
   "name": "python",
   "nbconvert_exporter": "python",
   "pygments_lexer": "ipython3",
   "version": "3.8.10"
  },
  "orig_nbformat": 4
 },
 "nbformat": 4,
 "nbformat_minor": 2
}
