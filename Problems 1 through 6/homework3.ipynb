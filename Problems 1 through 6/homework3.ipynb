{
 "metadata": {
  "language_info": {
   "codemirror_mode": {
    "name": "ipython",
    "version": 3
   },
   "file_extension": ".py",
   "mimetype": "text/x-python",
   "name": "python",
   "nbconvert_exporter": "python",
   "pygments_lexer": "ipython3",
   "version": "3.9.1-final"
  },
  "orig_nbformat": 2,
  "kernelspec": {
   "name": "python3",
   "display_name": "Python 3"
  }
 },
 "nbformat": 4,
 "nbformat_minor": 2,
 "cells": [
  {
   "cell_type": "code",
   "execution_count": 69,
   "metadata": {},
   "outputs": [],
   "source": [
    "from math import sqrt,ceil\n",
    "n = 600851475143\n",
    "class findThatPrime:\n",
    "    def __init__(self,num):\n",
    "        self.num = num\n",
    "        self.sqrnum = ceil(sqrt(num))\n",
    "    '''def primeList(self):\n",
    "        primeAggregator = [2,3] #this will be where we store our primes\n",
    "        \"\"\"our counter variable would normally let us cycle through the gamut of numbers, but to save time we are setting it\n",
    "        higher to reduce time calculating\"\"\"\n",
    "        counterVar = 1\n",
    "        while primeAggregator[-1] <= self.sqrnum:\n",
    "            nplus = (6 * counterVar)+1\n",
    "            nminus = (6* counterVar)-1\n",
    "            if nplus not in primeAggregator:\n",
    "               primeAggregator.append(nplus)\n",
    "            if nminus not in primeAggregator:\n",
    "                primeAggregator.append(nminus)\n",
    "            counterVar += 1\n",
    "            print(counterVar)\n",
    "        print(primeAggregator[-1])\n",
    "        '''\n",
    "        #the above attempt takes too long, a new method thought of involves attempts to keep dividing the square root of the number\n",
    "    def bigPrimy(self):\n",
    "        tempnum = self.num\n",
    "        while tempnum %2 == 0:\n",
    "            tempnum = tempnum / 2\n",
    "            print(tempnum)\n",
    "        for i in range(3,int(self.sqrnum)+1,2):\n",
    "            while tempnum % i == 0:\n",
    "                tempnum = tempnum / i\n",
    "                print(i)\n",
    "           \n"
   ]
  },
  {
   "cell_type": "code",
   "execution_count": 71,
   "metadata": {
    "tags": []
   },
   "outputs": [
    {
     "output_type": "stream",
     "name": "stdout",
     "text": [
      "5.0\n"
     ]
    }
   ],
   "source": [
    "temp = findThatPrime(10)\n",
    "temp.bigPrimy()"
   ]
  },
  {
   "cell_type": "code",
   "execution_count": null,
   "metadata": {},
   "outputs": [],
   "source": [
    "\"\"\"'The prime factors of 13195 are 5, 7, 13 and 29.\n",
    "\n",
    "What is the largest prime factor of the number 600851475143 ?'\n",
    "I had to decide whether I wanted to make a general solution, which involved taking the square root and checking every odd number between 2 and the sqrt(n), or a specific solution to this and I opted for a general solution, considering the general solution would only be marginally different.   The second big decision was how to optimize the instructions needed.  A key insight for ease of computation is to note that all primes > 3 are of the form 6n+1 or 6n-1.  The plan is to start generating primes (ideally we would just have a list of primes we could check against) by evaluating n as n increases. we would stop once a prime generated is >= the rough square of the number.  "
   ]
  }
 ]
}