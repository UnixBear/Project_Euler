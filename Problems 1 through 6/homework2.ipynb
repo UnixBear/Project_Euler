{
 "metadata": {
  "language_info": {
   "codemirror_mode": {
    "name": "ipython",
    "version": 3
   },
   "file_extension": ".py",
   "mimetype": "text/x-python",
   "name": "python",
   "nbconvert_exporter": "python",
   "pygments_lexer": "ipython3",
   "version": "3.9.1-final"
  },
  "orig_nbformat": 2,
  "kernelspec": {
   "name": "python3",
   "display_name": "Python 3"
  }
 },
 "nbformat": 4,
 "nbformat_minor": 2,
 "cells": [
  {
   "source": [
    "Phi = ((5.0)**(0.5) + 1)/2\n",
    "phi = Phi - 1\n",
    "def fib(n):\n",
    "    return int((((Phi**n)-(-1 * phi)**n)/(5**0.5)))\n",
    "aggregator = 0\n",
    "lastiter = 0\n",
    "tracker = 3\n",
    "while(lastiter < 4000000):\n",
    "    lastiter = fib(tracker)\n",
    "    aggregator += lastiter\n",
    "    tracker += 3\n",
    "    print(lastiter)\n",
    "if(lastiter > 400000):\n",
    "    aggregator -= lastiter\n",
    "print(aggregator)"
   ],
   "cell_type": "code",
   "metadata": {},
   "execution_count": 30,
   "outputs": [
    {
     "output_type": "stream",
     "name": "stdout",
     "text": [
      "2\n8\n34\n144\n610\n2584\n10946\n46368\n196418\n832040\n3524578\n14930352\n4613732\n"
     ]
    }
   ]
  },
  {
   "cell_type": "code",
   "execution_count": null,
   "metadata": {},
   "outputs": [],
   "source": [
    "#this one was a little more difficult, thought not where you'd think.  I remembered there was a formula for calculating the nth's fib number (binet's formula), which, funnily enough, isn't a particularly hard formula to derive.  The problem lay in trying to reduce the number of comparisons. the first optimization comes from realizing that for any number n > 2, for it to be even then summation expressions must be either odd + odd or even plus even. We also know that even + odd sums generate an odd number.  given the start of the sequence, we see that it starts with two odds, which generates an even. since fibinacci numbers are usually defined recursively as the sum of the preceding two numbers [fib(n) = fib(n-2)+fib(n-1)], we see that whenever an even is generated, it is proceeded by an odd which makes the next number a sum of an even an odd, which makes it odd. the same goes for the next one after that, but because we have two odds at the front of our sequence, the next number generated will be even.  this means that every third number will be even.  the last problem comes from a requirement to see if a number is less than 4 mil.  I couldn't come up with a good optimization so I am stuck with having to compare each iteration of fib with 4m which possibly leaves a dead iteration at the end"
   ]
  }
 ]
}