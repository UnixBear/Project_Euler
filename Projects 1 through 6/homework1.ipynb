{
 "metadata": {
  "language_info": {
   "codemirror_mode": {
    "name": "ipython",
    "version": 3
   },
   "file_extension": ".py",
   "mimetype": "text/x-python",
   "name": "python",
   "nbconvert_exporter": "python",
   "pygments_lexer": "ipython3",
   "version": "3.9.1-final"
  },
  "orig_nbformat": 2,
  "kernelspec": {
   "name": "Python 3.9.1 64-bit",
   "display_name": "Python 3.9.1 64-bit",
   "metadata": {
    "interpreter": {
     "hash": "767d51c1340bd893661ea55ea3124f6de3c7a262a8b4abca0554b478b1e2ff90"
    }
   }
  }
 },
 "nbformat": 4,
 "nbformat_minor": 2,
 "cells": [
  {
   "cell_type": "code",
   "execution_count": 21,
   "metadata": {},
   "outputs": [],
   "source": [
    "#we're going to start grab all the multiples of 3 or 5, from 0 to the target, and then add them together\n",
    "class priceIsRight:\n",
    "    def __init__(self,multTarget,mult1,mult2):\n",
    "        self.multTarget = multTarget\n",
    "        self.mult1 = mult1\n",
    "        self.mult2 = mult2\n",
    "    def priceCalc(self):\n",
    "        aggregator = 0\n",
    "        for x in range(self.multTarget):\n",
    "            if (x % self.mult1 == 0) or (x % self.mult2 == 0):\n",
    "                aggregator += x\n",
    "        return aggregator\n",
    "            \n",
    "\n",
    "\n"
   ]
  },
  {
   "cell_type": "code",
   "execution_count": 22,
   "metadata": {},
   "outputs": [
    {
     "output_type": "stream",
     "name": "stdout",
     "text": [
      "233168\n"
     ]
    }
   ],
   "source": [
    "oneK = priceIsRight(1000,3,5)\n",
    "oneK.priceCalc()\n",
    "print(oneK.priceCalc())"
   ]
  },
  {
   "cell_type": "code",
   "execution_count": null,
   "metadata": {},
   "outputs": [],
   "source": []
  }
 ]
}