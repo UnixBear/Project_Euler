{
 "metadata": {
  "language_info": {
   "codemirror_mode": {
    "name": "ipython",
    "version": 3
   },
   "file_extension": ".py",
   "mimetype": "text/x-python",
   "name": "python",
   "nbconvert_exporter": "python",
   "pygments_lexer": "ipython3",
   "version": "3.9.1-final"
  },
  "orig_nbformat": 2,
  "kernelspec": {
   "name": "python3",
   "display_name": "Python 3"
  }
 },
 "nbformat": 4,
 "nbformat_minor": 2,
 "cells": [
  {
   "cell_type": "code",
   "execution_count": 51,
   "metadata": {},
   "outputs": [],
   "source": [
    "def gcd(a,b):\n",
    "    #print('for greatest common denominator')\n",
    "    while b!=0:\n",
    "        #print('starting loop with a = ' + str(a) + ' and b = ' + str(b) + '\\n')\n",
    "        #print(\"a = a %% b is: %d %% %d\" % (a,b))\n",
    "        a = a % b\n",
    "        #print(' which equals: %d' % a)\n",
    "        #print(' now -> a = a ^ b = %d ^ %d ' % (a,b), end = '')\n",
    "        a = a ^ b\n",
    "        #print(\"so a = %d b = %d\" % (a,b))\n",
    "        #print(' now -> b = b ^ a = %d ^ %d ' % (b,a), end = '')\n",
    "        b = b ^ a\n",
    "        #print(\"so a = %d b = %d\" % (a,b))\n",
    "        #print(' now -> a = a ^ b = %d ^ %d ' % (a,b), end = '')\n",
    "        a = a ^ b\n",
    "        #print(\"so a = %d b = %d\" % (a,b))\n",
    "    return a\n",
    "\n",
    "def lcm(a,b):\n",
    "    return int(((a / gcd(a,b) * b)))\n",
    "def lcmRange(a,b):\n",
    "    temp = a\n",
    "    for i in range(a+1,b+1):\n",
    "        temp = lcm(temp,i)\n",
    "    return temp\n"
   ]
  },
  {
   "cell_type": "code",
   "execution_count": 52,
   "metadata": {},
   "outputs": [
    {
     "output_type": "execute_result",
     "data": {
      "text/plain": [
       "232792560"
      ]
     },
     "metadata": {},
     "execution_count": 52
    }
   ],
   "source": [
    "lcmRange(1,20)"
   ]
  },
  {
   "cell_type": "code",
   "execution_count": null,
   "metadata": {},
   "outputs": [],
   "source": []
  }
 ]
}