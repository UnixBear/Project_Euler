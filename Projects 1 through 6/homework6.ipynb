{
 "metadata": {
  "language_info": {
   "codemirror_mode": {
    "name": "ipython",
    "version": 3
   },
   "file_extension": ".py",
   "mimetype": "text/x-python",
   "name": "python",
   "nbconvert_exporter": "python",
   "pygments_lexer": "ipython3",
   "version": "3.9.1-final"
  },
  "orig_nbformat": 2,
  "kernelspec": {
   "name": "python3",
   "display_name": "Python 3"
  }
 },
 "nbformat": 4,
 "nbformat_minor": 2,
 "cells": [
  {
   "cell_type": "code",
   "execution_count": 20,
   "metadata": {},
   "outputs": [],
   "source": [
    "def sumOfSquares(a,b):\n",
    "    temp = 0\n",
    "    for i in range(a,b+1):\n",
    "        temp += i**2\n",
    "    return temp\n",
    "def squareOfSums(a,b):\n",
    "    temp = 0\n",
    "    for i in range(a,b+1):\n",
    "        temp += i\n",
    "    return (temp**2)\n"
   ]
  },
  {
   "cell_type": "code",
   "execution_count": 22,
   "metadata": {},
   "outputs": [
    {
     "output_type": "execute_result",
     "data": {
      "text/plain": [
       "25164150"
      ]
     },
     "metadata": {},
     "execution_count": 22
    }
   ],
   "source": [
    "squareOfSums(1,100) - sumOfSquares(1,100)"
   ]
  },
  {
   "cell_type": "code",
   "execution_count": null,
   "metadata": {},
   "outputs": [],
   "source": []
  }
 ]
}