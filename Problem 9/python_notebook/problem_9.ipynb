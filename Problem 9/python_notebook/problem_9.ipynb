{
 "cells": [
  {
   "cell_type": "code",
   "execution_count": 4,
   "metadata": {},
   "outputs": [],
   "source": [
    "# imports\n",
    "import math"
   ]
  },
  {
   "cell_type": "code",
   "execution_count": 43,
   "metadata": {},
   "outputs": [],
   "source": [
    "class pythag_triple:\n",
    "    def __init__(self) -> None:\n",
    "        self.a = 0\n",
    "        self.b = 0\n",
    "        self.c = 0\n",
    "        self.m = 0\n",
    "        self.n = 0\n",
    "        self.k = 0\n",
    "    def perf_square_check(self):\n",
    "        return math.sqrt((self.c-self.a)*(self.c-self.b)/2).is_integer()\n",
    "    \n",
    "    def pythag_parts(self):\n",
    "        self.a = self.k*(self.m**2 - self.n**2)\n",
    "        self.b = 2*self.m*self.n*self.k\n",
    "        self.c = self.k*(self.m**2 + self.n**2)\n",
    "        \n",
    "    def compute(self):\n",
    "        for i in range(2,6,2):\n",
    "            self.m = i\n",
    "            self.n = 5-self.m\n",
    "            self.k = 500/(self.m * (self.m + self.n))\n",
    "            self.pythag_parts()\n",
    "            print(f\"a:{self.a}, b:{self.b}, c:{self.c}, m:{self.m}, n:{self.n}, k:{self.k}\")\n",
    "            if self.perf_square_check() and (self.a + self.b + self.c == 1000) and self.m > self.n:\n",
    "                return (self.a*self.b*self.c)\n",
    "    \n",
    "            "
   ]
  },
  {
   "cell_type": "code",
   "execution_count": 44,
   "metadata": {},
   "outputs": [
    {
     "name": "stdout",
     "output_type": "stream",
     "text": [
      "a:-250.0, b:600.0, c:650.0, m:2, n:3, k:50.0\n",
      "a:375.0, b:200.0, c:425.0, m:4, n:1, k:25.0\n",
      "31875000.0\n"
     ]
    }
   ],
   "source": [
    "solution = pythag_triple()\n",
    "print(solution.compute())"
   ]
  }
 ],
 "metadata": {
  "kernelspec": {
   "display_name": "Python 3",
   "language": "python",
   "name": "python3"
  },
  "language_info": {
   "codemirror_mode": {
    "name": "ipython",
    "version": 3
   },
   "file_extension": ".py",
   "mimetype": "text/x-python",
   "name": "python",
   "nbconvert_exporter": "python",
   "pygments_lexer": "ipython3",
   "version": "3.8.10"
  },
  "orig_nbformat": 4
 },
 "nbformat": 4,
 "nbformat_minor": 2
}
