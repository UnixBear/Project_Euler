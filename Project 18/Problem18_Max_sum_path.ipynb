{
 "cells": [
  {
   "cell_type": "markdown",
   "metadata": {},
   "source": [
    "# Problem Description:\n",
    "\n",
    "By starting at the top of the triangle below and moving to adjacent numbers on the row below, the maximum total from top to bottom is 23.\n",
    " <pre>\n",
    "   *3*\n",
    "  *7* 4\n",
    " 2 *4* 6\n",
    "8 5 *9* 3\n",
    "\n",
    "That is, 3 + 7 + 4 + 9 = 23.\n",
    "\n",
    "Find the maximum total from top to bottom of the triangle below:\n",
    "\n",
    "              75\n",
    "             95 64\n",
    "            17 47 82\n",
    "           18 35 87 10\n",
    "          20 04 82 47 65\n",
    "         19 01 23 75 03 34\n",
    "        88 02 77 73 07 63 67\n",
    "       99 65 04 28 06 16 70 92\n",
    "      41 41 26 56 83 40 80 70 33\n",
    "     41 48 72 33 47 32 37 16 94 29\n",
    "    53 71 44 65 25 43 91 52 97 51 14\n",
    "   70 11 33 28 77 73 17 78 39 68 17 57\n",
    "  91 71 52 38 17 14 91 43 58 50 27 29 48\n",
    " 63 66 04 68 89 53 67 30 73 16 69 87 40 31\n",
    "04 62 98 27 23 09 70 98 73 93 38 53 60 04 23\n",
    "</pre\n",
    ">"
   ]
  },
  {
   "cell_type": "markdown",
   "metadata": {},
   "source": [
    "## Solution\n",
    "To solve this, we'll use a simply binary search since that doesn't require us to do any bruteforce checking.\n",
    "\n",
    "We start at the top of the triangle, and we know that we can start with an array the max length, which we know is going to be equal to the base (which is 15 in this case).\n",
    "\n",
    "We then check the row undernead (which again is mapped to an array that is +1 the size of the previous one) and we can keep track of the indicies directly orthogonal and underneath in virtue of the same array for every row. ***note*** in the future, one can use some math to pull the relevant numbers from the coming row but given the short memory space needed, we can do that later.\n",
    "\n",
    "\n"
   ]
  },
  {
   "cell_type": "code",
   "execution_count": 1,
   "metadata": {},
   "outputs": [],
   "source": [
    "N = 3\n",
    " \n",
    "# Function for finding maximum sum\n",
    "def maxPathSum(tri, m, n):\n",
    " \n",
    "    # loop for bottom-up calculation\n",
    "    for i in range(m-1, -1, -1):\n",
    "        for j in range(i+1):\n",
    " \n",
    "            # for each element, check both\n",
    "            # elements just below the number\n",
    "            # and below right to the number\n",
    "            # add the maximum of them to it\n",
    "            if (tri[i+1][j] > tri[i+1][j+1]):\n",
    "                tri[i][j] += tri[i+1][j]\n",
    "            else:\n",
    "                tri[i][j] += tri[i+1][j+1]\n",
    " \n",
    "    # return the top element\n",
    "    # which stores the maximum sum\n",
    "    return tri[0][0]\n",
    " \n",
    "triangle_matrix = [[75,0,0,0,0,0,0,0,0,0,0,0,0,0,0],\n",
    "[95,64,0,0,0,0,0,0,0,0,0,0,0,0,0],\n",
    "[17,47,82,0,0,0,0,0,0,0,0,0,0,0,0],\n",
    "[18,35,87,10,0,0,0,0,0,0,0,0,0,0,0],\n",
    "[20,4,82,47,65,0,0,0,0,0,0,0,0,0,0],\n",
    "[19,1,23,75,3,34,0,0,0,0,0,0,0,0,0],\n",
    "[88, 2, 77, 73, 7, 63, 67, 0, 0, 0, 0, 0, 0, 0, 0],\n",
    "[99, 65, 4, 28, 6, 16, 70, 92, 0, 0, 0, 0, 0, 0, 0],\n",
    "[41, 41, 26, 56, 83, 40, 80, 70, 33, 0, 0, 0, 0, 0, 0],\n",
    "[41, 48, 72, 33, 47, 32, 37, 16, 94, 29, 0, 0, 0, 0, 0],\n",
    "[53, 71, 44, 65, 25, 43, 91, 52, 97, 51, 14, 0, 0, 0, 0],\n",
    "[70, 11, 33, 28, 77, 73, 17, 78, 39, 68, 17, 57, 0, 0, 0],\n",
    "[91, 71, 52, 38, 17, 14, 91, 43, 58, 50, 27, 29, 48, 0, 0],\n",
    "[63, 66, 4, 68, 89, 53, 67, 30, 73, 16, 69, 87, 40, 31, 0],\n",
    "[4, 62, 98, 27, 23, 9, 70, 98, 73, 93, 38, 53, 60, 4, 23]\n",
    "]"
   ]
  }
 ],
 "metadata": {
  "interpreter": {
   "hash": "e7370f93d1d0cde622a1f8e1c04877d8463912d04d973331ad4851f04de6915a"
  },
  "kernelspec": {
   "display_name": "Python 3.10.4 64-bit",
   "language": "python",
   "name": "python3"
  },
  "language_info": {
   "codemirror_mode": {
    "name": "ipython",
    "version": 3
   },
   "file_extension": ".py",
   "mimetype": "text/x-python",
   "name": "python",
   "nbconvert_exporter": "python",
   "pygments_lexer": "ipython3",
   "version": "3.10.4"
  },
  "orig_nbformat": 4
 },
 "nbformat": 4,
 "nbformat_minor": 2
}
